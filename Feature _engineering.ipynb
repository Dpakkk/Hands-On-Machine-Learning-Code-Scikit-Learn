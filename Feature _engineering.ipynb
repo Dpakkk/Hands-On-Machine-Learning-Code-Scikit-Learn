{
 "cells": [
  {
   "cell_type": "code",
   "execution_count": 2,
   "id": "76cbf5ca",
   "metadata": {},
   "outputs": [],
   "source": [
    "# FE\n",
    "# Main work of ML engineer or DS is to represent data best for a particular application is feature engineering\n",
    "#representing in right way can have bigger influence on performance of a supervised model than the exact parameters"
   ]
  },
  {
   "cell_type": "code",
   "execution_count": 3,
   "id": "e508c039",
   "metadata": {},
   "outputs": [],
   "source": [
    "# handling categorical variables"
   ]
  },
  {
   "cell_type": "code",
   "execution_count": 5,
   "id": "7ee15d15",
   "metadata": {},
   "outputs": [],
   "source": [
    "# explore one hot encoding\n",
    "# it can be done using pd.get_dummies or by using sklearn"
   ]
  },
  {
   "cell_type": "code",
   "execution_count": null,
   "id": "937312e1",
   "metadata": {},
   "outputs": [],
   "source": []
  }
 ],
 "metadata": {
  "kernelspec": {
   "display_name": "Python 3 (ipykernel)",
   "language": "python",
   "name": "python3"
  },
  "language_info": {
   "codemirror_mode": {
    "name": "ipython",
    "version": 3
   },
   "file_extension": ".py",
   "mimetype": "text/x-python",
   "name": "python",
   "nbconvert_exporter": "python",
   "pygments_lexer": "ipython3",
   "version": "3.9.7"
  }
 },
 "nbformat": 4,
 "nbformat_minor": 5
}
