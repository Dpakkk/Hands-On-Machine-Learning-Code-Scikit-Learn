{
 "cells": [
  {
   "cell_type": "code",
   "execution_count": 1,
   "id": "75c72693",
   "metadata": {},
   "outputs": [],
   "source": [
    "# let's explore the real effect of scaling in supervised method"
   ]
  },
  {
   "cell_type": "code",
   "execution_count": 6,
   "id": "a8ee7ca6",
   "metadata": {},
   "outputs": [
    {
     "name": "stdout",
     "output_type": "stream",
     "text": [
      "Test set accuracy: 0.94\n"
     ]
    }
   ],
   "source": [
    "from sklearn.svm import SVC\n",
    "from sklearn.datasets import load_breast_cancer\n",
    "from sklearn.model_selection import train_test_split\n",
    "\n",
    "cancer = load_breast_cancer()\n",
    "X_train, X_test, y_train, y_test = train_test_split(cancer.data, cancer.target, random_state = 0)\n",
    "\n",
    "svc = SVC(C = 100)\n",
    "svc.fit(X_train, y_train)\n",
    "print(\"Test set accuracy: {:.2f}\".format(svc.score(X_test, y_test)))\n"
   ]
  },
  {
   "cell_type": "markdown",
   "id": "878b1184",
   "metadata": {},
   "source": [
    "## scale the data before fitting SVC"
   ]
  },
  {
   "cell_type": "code",
   "execution_count": 19,
   "id": "bd5601f5",
   "metadata": {},
   "outputs": [
    {
     "name": "stdout",
     "output_type": "stream",
     "text": [
      "Scaled test set accuracy: 0.97\n"
     ]
    }
   ],
   "source": [
    "# preprocess data using 0-1 scaling\n",
    "from sklearn.preprocessing import MinMaxScaler\n",
    "from sklearn.svm import SVC\n",
    "\n",
    "\n",
    "scaler = MinMaxScaler()\n",
    "svc = SVC()\n",
    "\n",
    "scaler.fit(X_train, y_train)\n",
    "X_train_scaled = scaler.transform(X_train)\n",
    "X_test_scaled = scaler.transform(X_test)\n",
    "\n",
    "\n",
    "# learning an SVM on the scaled training dataset\n",
    "svc.fit(X_train_scaled, y_train)\n",
    "# scoring in the training dataset\n",
    "print(\"Scaled test set accuracy: {:.2f}\".format(svc.score(X_test_scaled, y_test)))"
   ]
  },
  {
   "cell_type": "code",
   "execution_count": null,
   "id": "918645c7",
   "metadata": {},
   "outputs": [],
   "source": [
    "# takeways\n",
    "# we do need to scale both training and testing datasets with same scaling function\n",
    "# scaling output value(y) is required only when output values are very large\n",
    "# very large means using f32 variable (explor-linear algebra)\n"
   ]
  },
  {
   "cell_type": "code",
   "execution_count": null,
   "id": "ba535551",
   "metadata": {},
   "outputs": [],
   "source": []
  }
 ],
 "metadata": {
  "kernelspec": {
   "display_name": "Python 3 (ipykernel)",
   "language": "python",
   "name": "python3"
  },
  "language_info": {
   "codemirror_mode": {
    "name": "ipython",
    "version": 3
   },
   "file_extension": ".py",
   "mimetype": "text/x-python",
   "name": "python",
   "nbconvert_exporter": "python",
   "pygments_lexer": "ipython3",
   "version": "3.9.7"
  }
 },
 "nbformat": 4,
 "nbformat_minor": 5
}
