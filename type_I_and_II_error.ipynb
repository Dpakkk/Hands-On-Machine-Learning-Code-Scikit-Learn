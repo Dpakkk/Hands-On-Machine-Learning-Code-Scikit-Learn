{
 "cells": [
  {
   "cell_type": "code",
   "execution_count": 1,
   "id": "a530d880",
   "metadata": {},
   "outputs": [],
   "source": [
    "# FP -> false positive\n",
    "#Ex: in our previous example of cancer dataset from scikit-learn\n",
    "# Healthy patient classify as positive for  diseases\n",
    "# incorrent positive prediction is called false positive\n",
    "# Statistical term -: type I error"
   ]
  },
  {
   "cell_type": "code",
   "execution_count": 2,
   "id": "269e7afb",
   "metadata": {},
   "outputs": [],
   "source": [
    "# FN -> false negatice\n",
    "# EX: in our previous example of cancer dataset from scikit-learn\n",
    "# Unhealthy patient classify as negative for diseases\n",
    "# incorrent negative prediction is called false negative\n",
    "# statistical term -: type II error"
   ]
  },
  {
   "cell_type": "code",
   "execution_count": 3,
   "id": "4c5aa4a2",
   "metadata": {},
   "outputs": [],
   "source": [
    "# in our cancer model, we need to avoid false negative as much as possible \n",
    "# while false positive can be viewed as minor nuisance"
   ]
  },
  {
   "cell_type": "code",
   "execution_count": null,
   "id": "dee91290",
   "metadata": {},
   "outputs": [],
   "source": []
  }
 ],
 "metadata": {
  "kernelspec": {
   "display_name": "Python 3 (ipykernel)",
   "language": "python",
   "name": "python3"
  },
  "language_info": {
   "codemirror_mode": {
    "name": "ipython",
    "version": 3
   },
   "file_extension": ".py",
   "mimetype": "text/x-python",
   "name": "python",
   "nbconvert_exporter": "python",
   "pygments_lexer": "ipython3",
   "version": "3.9.7"
  }
 },
 "nbformat": 4,
 "nbformat_minor": 5
}
