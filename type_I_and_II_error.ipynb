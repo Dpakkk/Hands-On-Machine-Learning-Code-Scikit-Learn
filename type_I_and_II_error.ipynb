{
 "cells": [
  {
   "cell_type": "code",
   "execution_count": 20,
   "id": "ecfead68",
   "metadata": {},
   "outputs": [],
   "source": [
    "# FP -> false positive\n",
    "#Ex: in our previous example of cancer dataset from scikit-learn\n",
    "# Healthy patient classify as positive for  diseases\n",
    "# incorrent positive prediction is called false positive\n",
    "# Statistical term -: type I error"
   ]
  },
  {
   "cell_type": "code",
   "execution_count": 2,
   "id": "d1e7a6c4",
   "metadata": {},
   "outputs": [],
   "source": [
    "# FN -> false negatice\n",
    "# EX: in our previous example of cancer dataset from scikit-learn\n",
    "# Unhealthy patient classify as negative for diseases\n",
    "# incorrect negative prediction is called false negative\n",
    "# statistical term -: type II error"
   ]
  },
  {
   "cell_type": "code",
   "execution_count": 3,
   "id": "3d8c4ec2",
   "metadata": {},
   "outputs": [],
   "source": [
    "# in our cancer model, we need to avoid false negative as much as possible \n",
    "# while false positive can be viewed as minor nuisance\n",
    "# fro this specific types of problem"
   ]
  },
  {
   "cell_type": "code",
   "execution_count": 4,
   "id": "70c19b9e",
   "metadata": {},
   "outputs": [],
   "source": [
    "# imbalance dataset\n",
    "# types of errors plays an important role when data is imbalances\n",
    "# means one of the class is much more frequent than other class"
   ]
  },
  {
   "cell_type": "code",
   "execution_count": 6,
   "id": "0ca7522a",
   "metadata": {},
   "outputs": [],
   "source": [
    "# 99 people didnt clicked ad\n",
    "# 1 people clicked ad\n",
    "# dataset is now highly imbalanced\n",
    "# we made a model based on same dataset and model predicts 99% accurate on the click prediction task\n",
    "# here 99% accuracy sound cool but it didnt take consider of imbalance dataset "
   ]
  },
  {
   "cell_type": "code",
   "execution_count": 7,
   "id": "f7ebb312",
   "metadata": {},
   "outputs": [],
   "source": [
    "# imbalanced dataset illustrating here"
   ]
  },
  {
   "cell_type": "code",
   "execution_count": 5,
   "id": "4730f08f",
   "metadata": {},
   "outputs": [],
   "source": [
    "from sklearn.datasets import load_digits\n",
    "\n",
    "digits = load_digits()\n",
    "y = digits.target == 9"
   ]
  },
  {
   "cell_type": "code",
   "execution_count": 6,
   "id": "c6379a0d",
   "metadata": {},
   "outputs": [],
   "source": [
    "from sklearn.model_selection import train_test_split\n",
    "X_train, X_test, y_train, y_test = train_test_split(digits.data, y, random_state=0)"
   ]
  },
  {
   "cell_type": "code",
   "execution_count": 7,
   "id": "f818e713",
   "metadata": {},
   "outputs": [
    {
     "name": "stdout",
     "output_type": "stream",
     "text": [
      "Unique predicted labels: [False]\n",
      "Accuracy: 0.896\n"
     ]
    }
   ],
   "source": [
    "from sklearn.dummy import DummyClassifier\n",
    "import numpy as np\n",
    "dummy_majority = DummyClassifier(strategy = 'most_frequent').fit(X_train,y_train)\n",
    "pred_most_frequent = dummy_majority.predict(X_test)\n",
    "\n",
    "print(\"Unique predicted labels: {}\".format(np.unique(pred_most_frequent)))\n",
    "print(\"Accuracy: {:.3f}\".format(dummy_majority.score(X_test, y_test)))"
   ]
  },
  {
   "cell_type": "code",
   "execution_count": 9,
   "id": "b4ca3294",
   "metadata": {},
   "outputs": [
    {
     "name": "stdout",
     "output_type": "stream",
     "text": [
      "Accuracy of decision tree is: 0.9177777777777778\n"
     ]
    }
   ],
   "source": [
    "# lets test with actual classifier insted of dummy classifier\n",
    "from sklearn.tree import DecisionTreeClassifier\n",
    "\n",
    "tree = DecisionTreeClassifier(max_depth=2)\n",
    "tree.fit(X_train,y_train)\n",
    "\n",
    "pred_tree= tree.predict(X_test)\n",
    "print(\"Accuracy of decision tree is: {}\".format(tree.score(X_test,y_test)))"
   ]
  },
  {
   "cell_type": "code",
   "execution_count": 10,
   "id": "f47ecfe3",
   "metadata": {},
   "outputs": [],
   "source": [
    "# lets try with Logistic Regression"
   ]
  },
  {
   "cell_type": "code",
   "execution_count": 17,
   "id": "0ac6360a",
   "metadata": {},
   "outputs": [
    {
     "name": "stdout",
     "output_type": "stream",
     "text": [
      "dummy score: 0.8955555555555555\n",
      "logistic regression score: 0.9755555555555555\n"
     ]
    },
    {
     "name": "stderr",
     "output_type": "stream",
     "text": [
      "/Users/bikashpokharel/opt/anaconda3/lib/python3.9/site-packages/sklearn/linear_model/_logistic.py:763: ConvergenceWarning: lbfgs failed to converge (status=1):\n",
      "STOP: TOTAL NO. of ITERATIONS REACHED LIMIT.\n",
      "\n",
      "Increase the number of iterations (max_iter) or scale the data as shown in:\n",
      "    https://scikit-learn.org/stable/modules/preprocessing.html\n",
      "Please also refer to the documentation for alternative solver options:\n",
      "    https://scikit-learn.org/stable/modules/linear_model.html#logistic-regression\n",
      "  n_iter_i = _check_optimize_result(\n"
     ]
    }
   ],
   "source": [
    "from sklearn.linear_model import LogisticRegression\n",
    "dummy = DummyClassifier().fit(X_train, y_train)\n",
    "pred_dummy = dummy.predict(X_test)\n",
    "print(\"dummy score: {}\".format(dummy.score(X_test, y_test)))\n",
    "\n",
    "      \n",
    "lr = LogisticRegression().fit(X_train, y_train)\n",
    "pred_log = lr.predict(X_test)\n",
    "print(\"logistic regression score: {}\".format(lr.score(X_test, y_test)))\n"
   ]
  },
  {
   "cell_type": "code",
   "execution_count": 19,
   "id": "88cf6a0b",
   "metadata": {},
   "outputs": [],
   "source": [
    "# conclusion from all these model\n",
    "# we got three different accuracy from logistic regression, decision tree and random classifier\n",
    "# the accuracy varies significantly among three models\n",
    "# therefor accuracy is an inadqueate measure for quantifying [redictive [erformance\n",
    "# there are also more other ways to identify the accurate-ness of a machine model than accuracy "
   ]
  },
  {
   "cell_type": "code",
   "execution_count": null,
   "id": "93943a82",
   "metadata": {},
   "outputs": [],
   "source": []
  }
 ],
 "metadata": {
  "kernelspec": {
   "display_name": "Python 3 (ipykernel)",
   "language": "python",
   "name": "python3"
  },
  "language_info": {
   "codemirror_mode": {
    "name": "ipython",
    "version": 3
   },
   "file_extension": ".py",
   "mimetype": "text/x-python",
   "name": "python",
   "nbconvert_exporter": "python",
   "pygments_lexer": "ipython3",
   "version": "3.9.7"
  }
 },
 "nbformat": 4,
 "nbformat_minor": 5
}
