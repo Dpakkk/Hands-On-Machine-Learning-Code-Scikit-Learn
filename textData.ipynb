{
 "cells": [
  {
   "cell_type": "code",
   "execution_count": 1,
   "id": "f58f0461",
   "metadata": {},
   "outputs": [],
   "source": [
    "# apart from categorical and continuous data, there is one more popular data type called as text data\n",
    "# it is represented as a strings, made up of characters\n",
    "# Sentiment Analysis of Movie Review\n",
    "# need to process the data before we can apply any machine learning algorithms to it\n",
    "# just to see how string data can be classified:\n",
    "# Categorical data, free string that can be semantically mapped to categories, structured string data and Text data"
   ]
  },
  {
   "cell_type": "code",
   "execution_count": 7,
   "id": "37a36067",
   "metadata": {},
   "outputs": [],
   "source": [
    "# sentiment analysis of Movie Reviews"
   ]
  },
  {
   "cell_type": "code",
   "execution_count": 2,
   "id": "6103c106",
   "metadata": {},
   "outputs": [
    {
     "name": "stdout",
     "output_type": "stream",
     "text": [
      "type of text_train: <class 'list'>\n",
      "length  of text_train: 75000\n",
      "text_train[1]: \n",
      "b\"Amount of disappointment I am getting these days seeing movies like Partner, Jhoom Barabar and now, Heyy Babyy is gonna end my habit of seeing first day shows.<br /><br />The movie is an utter disappointment because it had the potential to become a laugh riot only if the d\\xc3\\xa9butant director, Sajid Khan hadn't tried too many things. Only saving grace in the movie were the last thirty minutes, which were seriously funny elsewhere the movie fails miserably. First half was desperately been tried to look funny but wasn't. Next 45 minutes were emotional and looked totally artificial and illogical.<br /><br />OK, when you are out for a movie like this you don't expect much logic but all the flaws tend to appear when you don't enjoy the movie and thats the case with Heyy Babyy. Acting is good but thats not enough to keep one interested.<br /><br />For the positives, you can take hot actresses, last 30 minutes, some comic scenes, good acting by the lead cast and the baby. Only problem is that these things do not come together properly to make a good movie.<br /><br />Anyways, I read somewhere that It isn't a copy of Three men and a baby but I think it would have been better if it was.\"\n"
     ]
    }
   ],
   "source": [
    "# using scikit-learn to import load_files library\n",
    "from sklearn.datasets import load_files\n",
    "reviews_train = load_files(\"aclImdb/train/\")\n",
    "# load_files returns a bunch, containing traininig texts and training labels\n",
    "text_train, y_train = reviews_train.data, reviews_train.target\n",
    "\n",
    "print(\"type of text_train: {}\".format(type(text_train)))\n",
    "print(\"length  of text_train: {}\".format(len(text_train)))\n",
    "print(\"text_train[1]: \\n{}\".format(text_train[1]))"
   ]
  },
  {
   "cell_type": "code",
   "execution_count": null,
   "id": "d6b042ad",
   "metadata": {},
   "outputs": [],
   "source": [
    "# as we can see a lot of HTML line breaks (<br />)\n",
    "# need to clean the data before process"
   ]
  }
 ],
 "metadata": {
  "kernelspec": {
   "display_name": "Python 3 (ipykernel)",
   "language": "python",
   "name": "python3"
  },
  "language_info": {
   "codemirror_mode": {
    "name": "ipython",
    "version": 3
   },
   "file_extension": ".py",
   "mimetype": "text/x-python",
   "name": "python",
   "nbconvert_exporter": "python",
   "pygments_lexer": "ipython3",
   "version": "3.9.7"
  }
 },
 "nbformat": 4,
 "nbformat_minor": 5
}
