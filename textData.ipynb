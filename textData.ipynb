{
 "cells": [
  {
   "cell_type": "code",
   "execution_count": 1,
   "id": "f58f0461",
   "metadata": {},
   "outputs": [],
   "source": [
    "# apart from categorical and continuous data, there is one more popular data type called as text data\n",
    "# it is represented as a strings, made up of characters\n",
    "# Sentiment Analysis of Movie Review\n",
    "# need to process the data before we can apply any machine learning algorithms to it\n",
    "# just to see how string data can be classified:\n",
    "# Categorical data, free string that can be semantically mapped to categories, structured string data and Text data"
   ]
  },
  {
   "cell_type": "code",
   "execution_count": 7,
   "id": "37a36067",
   "metadata": {},
   "outputs": [],
   "source": [
    "# sentiment analysis of Movie Reviews"
   ]
  },
  {
   "cell_type": "code",
   "execution_count": 3,
   "id": "6103c106",
   "metadata": {},
   "outputs": [
    {
     "name": "stdout",
     "output_type": "stream",
     "text": [
      "type of text_train: <class 'list'>\n",
      "length  of text_train: 75000\n",
      "text_train[1]: \n",
      "b\"Amount of disappointment I am getting these days seeing movies like Partner, Jhoom Barabar and now, Heyy Babyy is gonna end my habit of seeing first day shows.<br /><br />The movie is an utter disappointment because it had the potential to become a laugh riot only if the d\\xc3\\xa9butant director, Sajid Khan hadn't tried too many things. Only saving grace in the movie were the last thirty minutes, which were seriously funny elsewhere the movie fails miserably. First half was desperately been tried to look funny but wasn't. Next 45 minutes were emotional and looked totally artificial and illogical.<br /><br />OK, when you are out for a movie like this you don't expect much logic but all the flaws tend to appear when you don't enjoy the movie and thats the case with Heyy Babyy. Acting is good but thats not enough to keep one interested.<br /><br />For the positives, you can take hot actresses, last 30 minutes, some comic scenes, good acting by the lead cast and the baby. Only problem is that these things do not come together properly to make a good movie.<br /><br />Anyways, I read somewhere that It isn't a copy of Three men and a baby but I think it would have been better if it was.\"\n",
      "y_train[1]: \n",
      "2\n"
     ]
    }
   ],
   "source": [
    "# using scikit-learn to import load_files library\n",
    "from sklearn.datasets import load_files\n",
    "reviews_train = load_files(\"aclImdb/train/\")\n",
    "# load_files returns a bunch, containing traininig texts and training labels\n",
    "text_train, y_train = reviews_train.data, reviews_train.target\n",
    "\n",
    "print(\"type of text_train: {}\".format(type(text_train)))\n",
    "print(\"length  of text_train: {}\".format(len(text_train)))\n",
    "print(\"text_train[1]: \\n{}\".format(text_train[1]))\n",
    "print('y_train[1]: \\n{}'.format(y_train[1]))"
   ]
  },
  {
   "cell_type": "code",
   "execution_count": 16,
   "id": "85dc3906",
   "metadata": {},
   "outputs": [
    {
     "data": {
      "text/plain": [
       "b\"Amount of disappointment I am getting these days seeing movies like Partner, Jhoom Barabar and now, Heyy Babyy is gonna end my habit of seeing first day shows.The movie is an utter disappointment because it had the potential to become a laugh riot only if the d\\xc3\\xa9butant director, Sajid Khan hadn't tried too many things. Only saving grace in the movie were the last thirty minutes, which were seriously funny elsewhere the movie fails miserably. First half was desperately been tried to look funny but wasn't. Next 45 minutes were emotional and looked totally artificial and illogical.OK, when you are out for a movie like this you don't expect much logic but all the flaws tend to appear when you don't enjoy the movie and thats the case with Heyy Babyy. Acting is good but thats not enough to keep one interested.For the positives, you can take hot actresses, last 30 minutes, some comic scenes, good acting by the lead cast and the baby. Only problem is that these things do not come together properly to make a good movie.Anyways, I read somewhere that It isn't a copy of Three men and a baby but I think it would have been better if it was.\""
      ]
     },
     "execution_count": 16,
     "metadata": {},
     "output_type": "execute_result"
    }
   ],
   "source": [
    "# the html break <br> can creat a unnecessary impact in our model so removing those symbols first\n",
    "text_train = [word.replace(b\"<br />\",b\" \") for word in text_train]\n",
    "text_train[1]"
   ]
  },
  {
   "cell_type": "code",
   "execution_count": 17,
   "id": "d6b042ad",
   "metadata": {},
   "outputs": [],
   "source": [
    "# datasets is not biased means there are as many positive comments as negative one"
   ]
  },
  {
   "cell_type": "code",
   "execution_count": 19,
   "id": "39858f94",
   "metadata": {},
   "outputs": [
    {
     "name": "stdout",
     "output_type": "stream",
     "text": [
      "samples per class (training): [12500 12500 50000]\n"
     ]
    }
   ],
   "source": [
    "import numpy as np\n",
    "print(\"samples per class (training): {}\".format(np.bincount(y_train)))"
   ]
  },
  {
   "cell_type": "code",
   "execution_count": 20,
   "id": "4273de67",
   "metadata": {},
   "outputs": [],
   "source": [
    "# representing text data as a Bag of Words\n",
    "# its a effective and commonly way to represent text  into numeric representation\n",
    "# process involve representing bag od words:\n",
    "# 1) Tokenization: Split into words called tokens - splitting on whitespace and punctuation\n",
    "# 2) Vocabulary building: Collect a vocabulary of all words that appear in any of the dicuments, and number them\n",
    "# 3) Encoding: for each document, count how often each word in the vocabulary nappear in this document\n"
   ]
  },
  {
   "cell_type": "code",
   "execution_count": 23,
   "id": "09b7d271",
   "metadata": {},
   "outputs": [],
   "source": [
    "# simple bag of word representation for small datasets\n",
    "bag_words = ['I like the way am learning Machine Learning',\n",
    "             'Naked Statistics is the best book ever exists' ]"
   ]
  },
  {
   "cell_type": "code",
   "execution_count": 24,
   "id": "62b343ce",
   "metadata": {},
   "outputs": [
    {
     "data": {
      "text/plain": [
       "CountVectorizer()"
      ]
     },
     "execution_count": 24,
     "metadata": {},
     "output_type": "execute_result"
    }
   ],
   "source": [
    "from sklearn.feature_extraction.text import CountVectorizer\n",
    "vect = CountVectorizer()\n",
    "vect.fit(bag_words)"
   ]
  },
  {
   "cell_type": "code",
   "execution_count": 25,
   "id": "4ee2b1e7",
   "metadata": {},
   "outputs": [
    {
     "data": {
      "text/plain": [
       "{'like': 7,\n",
       " 'the': 11,\n",
       " 'way': 12,\n",
       " 'am': 0,\n",
       " 'learning': 6,\n",
       " 'machine': 8,\n",
       " 'naked': 9,\n",
       " 'statistics': 10,\n",
       " 'is': 5,\n",
       " 'best': 1,\n",
       " 'book': 2,\n",
       " 'ever': 3,\n",
       " 'exists': 4}"
      ]
     },
     "execution_count": 25,
     "metadata": {},
     "output_type": "execute_result"
    }
   ],
   "source": [
    "vect.vocabulary_"
   ]
  },
  {
   "cell_type": "code",
   "execution_count": 28,
   "id": "f05e5707",
   "metadata": {},
   "outputs": [
    {
     "name": "stdout",
     "output_type": "stream",
     "text": [
      "bag of words : <2x13 sparse matrix of type '<class 'numpy.int64'>'\n",
      "\twith 14 stored elements in Compressed Sparse Row format>\n"
     ]
    }
   ],
   "source": [
    "# after countvectorize, we call th transform method\n",
    "bag_of_words = vect.transform(bag_words)\n",
    "print(\"bag of words : {}\".format(repr(bag_of_words)))"
   ]
  },
  {
   "cell_type": "code",
   "execution_count": null,
   "id": "eaeac758",
   "metadata": {},
   "outputs": [],
   "source": []
  },
  {
   "cell_type": "code",
   "execution_count": null,
   "id": "f9403d9c",
   "metadata": {},
   "outputs": [],
   "source": []
  }
 ],
 "metadata": {
  "kernelspec": {
   "display_name": "Python 3 (ipykernel)",
   "language": "python",
   "name": "python3"
  },
  "language_info": {
   "codemirror_mode": {
    "name": "ipython",
    "version": 3
   },
   "file_extension": ".py",
   "mimetype": "text/x-python",
   "name": "python",
   "nbconvert_exporter": "python",
   "pygments_lexer": "ipython3",
   "version": "3.9.7"
  }
 },
 "nbformat": 4,
 "nbformat_minor": 5
}
