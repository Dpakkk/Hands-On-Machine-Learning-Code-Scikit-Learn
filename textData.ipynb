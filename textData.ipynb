{
 "cells": [
  {
   "cell_type": "code",
   "execution_count": 2,
   "id": "bd501e51",
   "metadata": {},
   "outputs": [],
   "source": [
    "# apart from categorical and continuous data, there is one more popular data type called as text data\n",
    "# it is represented as a strings, made up of characters\n",
    "# need to process the data before we can apply any machine learning algorithms to it\n",
    "\n",
    "\n",
    "# just to see how string data can be classified:\n",
    "# Categorical data, free string that can be semantically mapped to categories, structured string data and Text data\n"
   ]
  },
  {
   "cell_type": "code",
   "execution_count": null,
   "id": "4e517251",
   "metadata": {},
   "outputs": [],
   "source": []
  }
 ],
 "metadata": {
  "kernelspec": {
   "display_name": "Python 3 (ipykernel)",
   "language": "python",
   "name": "python3"
  },
  "language_info": {
   "codemirror_mode": {
    "name": "ipython",
    "version": 3
   },
   "file_extension": ".py",
   "mimetype": "text/x-python",
   "name": "python",
   "nbconvert_exporter": "python",
   "pygments_lexer": "ipython3",
   "version": "3.9.7"
  }
 },
 "nbformat": 4,
 "nbformat_minor": 5
}
