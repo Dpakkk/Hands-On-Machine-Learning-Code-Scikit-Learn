{
 "cells": [
  {
   "cell_type": "code",
   "execution_count": 1,
   "id": "c75ef5fb",
   "metadata": {},
   "outputs": [],
   "source": [
    "# impact of leaking information in the cross validation varies depending on the nature of the preprocessgin step\n",
    "# let's consider synthentic regression task with 100 samples and 1,000 features as\n"
   ]
  },
  {
   "cell_type": "code",
   "execution_count": 4,
   "id": "83f1497d",
   "metadata": {},
   "outputs": [],
   "source": [
    "import numpy as np\n",
    "rnd = np.random.RandomState(seed = 0)\n",
    "X = rnd.normal(size = (100, 10000))\n",
    "y = rnd.normal(size = (100,))"
   ]
  },
  {
   "cell_type": "code",
   "execution_count": 9,
   "id": "db7ad8ce",
   "metadata": {},
   "outputs": [],
   "source": [
    "# task here\n",
    "# select the most informative of the 10 features using SelectPercentile feature selection\n",
    "# and then evaluate a Ridge regressor using cross validation"
   ]
  },
  {
   "cell_type": "code",
   "execution_count": 11,
   "id": "defd2e17",
   "metadata": {},
   "outputs": [
    {
     "name": "stdout",
     "output_type": "stream",
     "text": [
      "X_selected.shape: (100, 500)\n"
     ]
    }
   ],
   "source": [
    "from sklearn.feature_selection import SelectPercentile, f_regression\n",
    "\n",
    "select = SelectPercentile(score_func = f_regression, percentile=5).fit(X, y)\n",
    "X_selected = select.transform(X)\n",
    "print(\"X_selected.shape: {}\".format(X_selected.shape))"
   ]
  },
  {
   "cell_type": "code",
   "execution_count": 12,
   "id": "d3a3fcb4",
   "metadata": {},
   "outputs": [
    {
     "name": "stdout",
     "output_type": "stream",
     "text": [
      "Cross Validation accuracy: 0.91\n"
     ]
    }
   ],
   "source": [
    "from sklearn.model_selection import cross_val_score\n",
    "from sklearn.linear_model import Ridge\n",
    "print(\"Cross Validation accuracy: {:.2f}\".format(np.mean(cross_val_score(Ridge(), X_selected, y, cv = 5))))"
   ]
  },
  {
   "cell_type": "code",
   "execution_count": 13,
   "id": "d7940cfd",
   "metadata": {},
   "outputs": [],
   "source": [
    "# 0.91 is good accuracy but for a random numer - not justified\n",
    "# what happened here is the feature selection picked out some features among 10,000 random features that are by chance correlated with the target\n",
    "\n",
    "# becuase I fit the feature selection outside the cross-validation \n",
    "# infomration we leaked from test folds was very informative, leading to highly unrelaistic results\n",
    "\n"
   ]
  },
  {
   "cell_type": "code",
   "execution_count": 15,
   "id": "60c473dd",
   "metadata": {},
   "outputs": [
    {
     "name": "stdout",
     "output_type": "stream",
     "text": [
      "Cross- validation accuracy (pipeline): -0.24655422384952802\n"
     ]
    }
   ],
   "source": [
    "# the correct way \n",
    "# proper cross-validation using pipeline\n",
    "from sklearn.pipeline import Pipeline\n",
    "pipe = Pipeline([(\"select\", SelectPercentile(score_func=f_regression, percentile=5)), (\"ridge\", Ridge())])\n",
    "\n",
    "print(\"Cross- validation accuracy (pipeline): {}\".format(np.mean(cross_val_score(pipe, X, y, cv = 5))))"
   ]
  },
  {
   "cell_type": "code",
   "execution_count": 16,
   "id": "07a8b3bb",
   "metadata": {},
   "outputs": [],
   "source": [
    "# it indicates very poor model\n",
    "# feature selection is inside the cross validation loop\n",
    "# features can only be selected using training folds, not the test folds\n",
    "\n",
    "# data leakage issue in feature selection makes the difference between concluding that a \n",
    "# model works very well and concluding that a model works not at all"
   ]
  },
  {
   "cell_type": "code",
   "execution_count": null,
   "id": "10a1d412",
   "metadata": {},
   "outputs": [],
   "source": []
  }
 ],
 "metadata": {
  "kernelspec": {
   "display_name": "Python 3 (ipykernel)",
   "language": "python",
   "name": "python3"
  },
  "language_info": {
   "codemirror_mode": {
    "name": "ipython",
    "version": 3
   },
   "file_extension": ".py",
   "mimetype": "text/x-python",
   "name": "python",
   "nbconvert_exporter": "python",
   "pygments_lexer": "ipython3",
   "version": "3.9.7"
  }
 },
 "nbformat": 4,
 "nbformat_minor": 5
}
