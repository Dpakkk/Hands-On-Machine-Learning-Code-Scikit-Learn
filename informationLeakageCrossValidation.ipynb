{
 "cells": [
  {
   "cell_type": "code",
   "execution_count": 1,
   "id": "3b030c29",
   "metadata": {},
   "outputs": [],
   "source": [
    "# impact of leaking information in the cross validation varies depending on the nature of the preprocessgin step\n",
    "# let's consider synthentic regression task with 100 samples and 1,000 features as\n"
   ]
  },
  {
   "cell_type": "code",
   "execution_count": 4,
   "id": "924f6776",
   "metadata": {},
   "outputs": [],
   "source": [
    "import numpy as np\n",
    "rnd = np.random.RandomState(seed = 0)\n",
    "X = rnd.normal(size = (100, 10000))\n",
    "y = rnd.normal(size = (100,))"
   ]
  },
  {
   "cell_type": "code",
   "execution_count": 9,
   "id": "ece21317",
   "metadata": {},
   "outputs": [],
   "source": [
    "# task here\n",
    "# select the most informative of the 10 features using SelectPercentile feature selection\n",
    "# and then evaluate a Ridge regressor using cross validation"
   ]
  },
  {
   "cell_type": "code",
   "execution_count": 11,
   "id": "3c5f829c",
   "metadata": {},
   "outputs": [
    {
     "name": "stdout",
     "output_type": "stream",
     "text": [
      "X_selected.shape: (100, 500)\n"
     ]
    }
   ],
   "source": [
    "from sklearn.feature_selection import SelectPercentile, f_regression\n",
    "\n",
    "select = SelectPercentile(score_func = f_regression, percentile=5).fit(X, y)\n",
    "X_selected = select.transform(X)\n",
    "print(\"X_selected.shape: {}\".format(X_selected.shape))"
   ]
  },
  {
   "cell_type": "code",
   "execution_count": 12,
   "id": "bda964ac",
   "metadata": {},
   "outputs": [
    {
     "name": "stdout",
     "output_type": "stream",
     "text": [
      "Cross Validation accuracy: 0.91\n"
     ]
    }
   ],
   "source": [
    "from sklearn.model_selection import cross_val_score\n",
    "from sklearn.linear_model import Ridge\n",
    "print(\"Cross Validation accuracy: {:.2f}\".format(np.mean(cross_val_score(Ridge(), X_selected, y, cv = 5))))"
   ]
  },
  {
   "cell_type": "code",
   "execution_count": null,
   "id": "43612f52",
   "metadata": {},
   "outputs": [],
   "source": [
    "# 0.91 is good accuracy but for a random numer - not justified\n",
    "# what happened here is the feature selection picked out some features among 10,000 random features that are by chance correlated with the target\n",
    "\n",
    "# becuase I fit the feature selection outside the cross-validation \n",
    "# infomration we leaked from test folds was very informative, leading to highly unrelaistic results\n",
    "\n"
   ]
  }
 ],
 "metadata": {
  "kernelspec": {
   "display_name": "Python 3 (ipykernel)",
   "language": "python",
   "name": "python3"
  },
  "language_info": {
   "codemirror_mode": {
    "name": "ipython",
    "version": 3
   },
   "file_extension": ".py",
   "mimetype": "text/x-python",
   "name": "python",
   "nbconvert_exporter": "python",
   "pygments_lexer": "ipython3",
   "version": "3.9.7"
  }
 },
 "nbformat": 4,
 "nbformat_minor": 5
}
