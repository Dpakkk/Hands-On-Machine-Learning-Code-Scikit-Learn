{
 "cells": [
  {
   "cell_type": "code",
   "execution_count": null,
   "id": "4e2d220c",
   "metadata": {},
   "outputs": [],
   "source": [
    "# we increase model performance by tuning parameters\n",
    "# 2) finding the value of important parameters of model is important\n",
    "# the most comonly used for commment second is grid search\n"
   ]
  }
 ],
 "metadata": {
  "kernelspec": {
   "display_name": "Python 3 (ipykernel)",
   "language": "python",
   "name": "python3"
  },
  "language_info": {
   "codemirror_mode": {
    "name": "ipython",
    "version": 3
   },
   "file_extension": ".py",
   "mimetype": "text/x-python",
   "name": "python",
   "nbconvert_exporter": "python",
   "pygments_lexer": "ipython3",
   "version": "3.9.7"
  }
 },
 "nbformat": 4,
 "nbformat_minor": 5
}
