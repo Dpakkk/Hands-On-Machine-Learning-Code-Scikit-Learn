{
 "cells": [
  {
   "cell_type": "code",
   "execution_count": 1,
   "id": "cf7dc9f9",
   "metadata": {},
   "outputs": [],
   "source": [
    "# we increase model performance by tuning parameters\n",
    "# 2) finding the vright value of parameters of model is important\n",
    "# the most comonly used for adjusting the parameter for supervised learning id \n",
    "# grid search means trying all possible combinations of the parameters of interest\n"
   ]
  },
  {
   "cell_type": "code",
   "execution_count": 2,
   "id": "e7dd216d",
   "metadata": {},
   "outputs": [],
   "source": [
    "# two important paramenters in kernerl SVM with RBF model\n",
    "# kernel bandwidth, gamme\n",
    "# and regularization parameters, C\n",
    "# lets suppose we want to try 5 different values of gamma and same for regularization\n",
    "\n"
   ]
  },
  {
   "cell_type": "code",
   "execution_count": 3,
   "id": "aacb5b80",
   "metadata": {},
   "outputs": [],
   "source": [
    "# simple grid search - just loops over two paramerters"
   ]
  },
  {
   "cell_type": "code",
   "execution_count": 26,
   "id": "bcaffa97",
   "metadata": {},
   "outputs": [
    {
     "name": "stdout",
     "output_type": "stream",
     "text": [
      "Size of training set: 112 size of test set: 38\n",
      "Best Score: 0.9736842105263158\n",
      "Best Parameter: {'C': 100, 'gamma': 0.001}\n"
     ]
    }
   ],
   "source": [
    "# naive grid search implementation\n",
    "from sklearn.svm import SVC\n",
    "from sklearn.model_selection import train_test_split\n",
    "from sklearn.datasets import load_iris\n",
    "iris = load_iris()\n",
    "\n",
    "X_train, X_test, y_train, y_test = train_test_split(iris.data, iris.target, random_state = 0)\n",
    "print(\"Size of training set: {} size of test set: {}\".format(X_train.shape[0], X_test.shape[0]))\n",
    "\n",
    "best_score = 0\n",
    "\n",
    "for gamma in [0.001, 0.01, 0.1, 1, 10, 100]:\n",
    "    for C in [0.001, 0.01, 0.1, 1, 10, 100]:\n",
    "        # for each combination of parameters, train an SVC\n",
    "        svm = SVC(gamma = gamma, C=C)\n",
    "        svm.fit(X_train, y_train)\n",
    "        # evaluate the SVC on the test set \n",
    "        score = svm.score(X_test, y_test)\n",
    "        # if we got a better score, store the score and parameters \n",
    "        if score > best_score:\n",
    "            best_score = score\n",
    "            best_parameter = {'C':C, 'gamma': gamma}\n",
    "print(\"Best Score: {}\".format(best_score))\n",
    "print(\"Best Parameter: {}\".format(best_parameter))\n",
    "\n"
   ]
  },
  {
   "cell_type": "code",
   "execution_count": 27,
   "id": "6264279c",
   "metadata": {},
   "outputs": [],
   "source": [
    "# 97% accuracy is not that realistic so we mmight have overfited the model\n",
    "# this accuracy won't necessarily carry over to new data\n",
    "# becasue we use test data to adjust the parmeter\n",
    "# we can no longer use it to asses how good the model is \n",
    "# we can solve this problem by splitting the data again- validation dataset\n"
   ]
  },
  {
   "cell_type": "code",
   "execution_count": null,
   "id": "9e8d7669",
   "metadata": {},
   "outputs": [],
   "source": []
  }
 ],
 "metadata": {
  "kernelspec": {
   "display_name": "Python 3 (ipykernel)",
   "language": "python",
   "name": "python3"
  },
  "language_info": {
   "codemirror_mode": {
    "name": "ipython",
    "version": 3
   },
   "file_extension": ".py",
   "mimetype": "text/x-python",
   "name": "python",
   "nbconvert_exporter": "python",
   "pygments_lexer": "ipython3",
   "version": "3.9.7"
  }
 },
 "nbformat": 4,
 "nbformat_minor": 5
}
