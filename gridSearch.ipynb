{
 "cells": [
  {
   "cell_type": "code",
   "execution_count": 1,
   "id": "cf7dc9f9",
   "metadata": {},
   "outputs": [],
   "source": [
    "# we increase model performance by tuning parameters\n",
    "# 2) finding the vright value of parameters of model is important\n",
    "# the most comonly used for comment #2 is grid search"
   ]
  },
  {
   "cell_type": "code",
   "execution_count": null,
   "id": "e7dd216d",
   "metadata": {},
   "outputs": [],
   "source": []
  }
 ],
 "metadata": {
  "kernelspec": {
   "display_name": "Python 3 (ipykernel)",
   "language": "python",
   "name": "python3"
  },
  "language_info": {
   "codemirror_mode": {
    "name": "ipython",
    "version": 3
   },
   "file_extension": ".py",
   "mimetype": "text/x-python",
   "name": "python",
   "nbconvert_exporter": "python",
   "pygments_lexer": "ipython3",
   "version": "3.9.7"
  }
 },
 "nbformat": 4,
 "nbformat_minor": 5
}
