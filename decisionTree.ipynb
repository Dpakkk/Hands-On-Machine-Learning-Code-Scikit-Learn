{
 "cells": [
  {
   "cell_type": "code",
   "execution_count": 81,
   "id": "2cd675ec",
   "metadata": {},
   "outputs": [],
   "source": [
    "# It is a computer replication of if else decision making. For example\n",
    "#if we need to distinguish between dolphin, hawk and beer then we have have three feature has fin, can fly and has feather\n",
    "# se we can drill down the decision based on these three features\n",
    "# this is called the desicion treee\n",
    "# from this https://machinelearningmastery.com/classification-versus-regression-in-machine-learning/\n",
    "# I have also figure out that there will be no any accuracy thing for regression. The models is examined using RSME (root mean square value)\n",
    "# There will be accuracy of classification problem. accuracy\n"
   ]
  },
  {
   "cell_type": "code",
   "execution_count": 23,
   "id": "e5d5b2bb",
   "metadata": {},
   "outputs": [],
   "source": [
    "# decision tree on breast cancer dataset"
   ]
  },
  {
   "cell_type": "code",
   "execution_count": 41,
   "id": "059589a7",
   "metadata": {},
   "outputs": [],
   "source": [
    "from sklearn import datasets\n",
    "from sklearn.tree import DecisionTreeClassifier\n",
    "import numpy as np\n",
    "import pandas as pd\n",
    "from sklearn.model_selection import train_test_split"
   ]
  },
  {
   "cell_type": "code",
   "execution_count": 42,
   "id": "8500f6ca",
   "metadata": {},
   "outputs": [],
   "source": [
    "cancer = datasets.load_breast_cancer() "
   ]
  },
  {
   "cell_type": "code",
   "execution_count": 43,
   "id": "e9e6fdf6",
   "metadata": {},
   "outputs": [
    {
     "data": {
      "text/plain": [
       "dict_keys(['data', 'target', 'frame', 'target_names', 'DESCR', 'feature_names', 'filename'])"
      ]
     },
     "execution_count": 43,
     "metadata": {},
     "output_type": "execute_result"
    }
   ],
   "source": [
    "cancer.keys()"
   ]
  },
  {
   "cell_type": "code",
   "execution_count": 118,
   "id": "04caab9d",
   "metadata": {},
   "outputs": [
    {
     "data": {
      "text/plain": [
       "array([[1.799e+01, 1.038e+01, 1.228e+02, ..., 2.654e-01, 4.601e-01,\n",
       "        1.189e-01],\n",
       "       [2.057e+01, 1.777e+01, 1.329e+02, ..., 1.860e-01, 2.750e-01,\n",
       "        8.902e-02],\n",
       "       [1.969e+01, 2.125e+01, 1.300e+02, ..., 2.430e-01, 3.613e-01,\n",
       "        8.758e-02],\n",
       "       ...,\n",
       "       [1.660e+01, 2.808e+01, 1.083e+02, ..., 1.418e-01, 2.218e-01,\n",
       "        7.820e-02],\n",
       "       [2.060e+01, 2.933e+01, 1.401e+02, ..., 2.650e-01, 4.087e-01,\n",
       "        1.240e-01],\n",
       "       [7.760e+00, 2.454e+01, 4.792e+01, ..., 0.000e+00, 2.871e-01,\n",
       "        7.039e-02]])"
      ]
     },
     "execution_count": 118,
     "metadata": {},
     "output_type": "execute_result"
    }
   ],
   "source": [
    "cancer.data"
   ]
  },
  {
   "cell_type": "code",
   "execution_count": null,
   "id": "6538e068",
   "metadata": {},
   "outputs": [],
   "source": []
  },
  {
   "cell_type": "code",
   "execution_count": 69,
   "id": "ab44fef4",
   "metadata": {},
   "outputs": [],
   "source": [
    "X_train,X_test,y_train,y_test = train_test_split(cancer.data, cancer.target, stratify = cancer.target, random_state = 42)"
   ]
  },
  {
   "cell_type": "code",
   "execution_count": 70,
   "id": "3514faba",
   "metadata": {},
   "outputs": [],
   "source": [
    "tree = DecisionTreeClassifier(random_state = 0)"
   ]
  },
  {
   "cell_type": "code",
   "execution_count": 71,
   "id": "f32054ce",
   "metadata": {},
   "outputs": [
    {
     "data": {
      "text/plain": [
       "(426, 30)"
      ]
     },
     "execution_count": 71,
     "metadata": {},
     "output_type": "execute_result"
    }
   ],
   "source": [
    "X_train.shape"
   ]
  },
  {
   "cell_type": "code",
   "execution_count": 72,
   "id": "9f1f5bc6",
   "metadata": {},
   "outputs": [
    {
     "data": {
      "text/plain": [
       "(426,)"
      ]
     },
     "execution_count": 72,
     "metadata": {},
     "output_type": "execute_result"
    }
   ],
   "source": [
    "y_train.shape"
   ]
  },
  {
   "cell_type": "code",
   "execution_count": 73,
   "id": "69f25841",
   "metadata": {},
   "outputs": [
    {
     "data": {
      "text/plain": [
       "DecisionTreeClassifier(random_state=0)"
      ]
     },
     "execution_count": 73,
     "metadata": {},
     "output_type": "execute_result"
    }
   ],
   "source": [
    "tree.fit(X_train, y_train)"
   ]
  },
  {
   "cell_type": "code",
   "execution_count": 80,
   "id": "f5a03673",
   "metadata": {},
   "outputs": [
    {
     "name": "stdout",
     "output_type": "stream",
     "text": [
      "The accuracy on training dataset is: 1.00\n",
      "The accuracy on testing dataset is: 0.94\n"
     ]
    }
   ],
   "source": [
    "# accuracy on training dataset\n",
    "print(\"The accuracy on training dataset is: {:.2f}\".format(tree.score(X_train,y_train)))\n",
    "print(\"The accuracy on testing dataset is: {:.2f}\".format(tree.score(X_test, y_test)))"
   ]
  },
  {
   "cell_type": "code",
   "execution_count": 82,
   "id": "2a634967",
   "metadata": {},
   "outputs": [],
   "source": [
    "# pruning the decision tree"
   ]
  },
  {
   "cell_type": "code",
   "execution_count": 83,
   "id": "1b631b61",
   "metadata": {},
   "outputs": [],
   "source": [
    "# if we dont restrict the depth of decision tree, the tree can become arbitrarily\n",
    "# deep and complex \n",
    "# therefore unpruned tree are prone to overfitting and not generalizing well to new data\n",
    "# max_depth limit the tree and prevent overfitting"
   ]
  },
  {
   "cell_type": "code",
   "execution_count": 92,
   "id": "49125583",
   "metadata": {},
   "outputs": [],
   "source": [
    "tree = DecisionTreeClassifier(max_depth = 4, random_state=0)"
   ]
  },
  {
   "cell_type": "code",
   "execution_count": 93,
   "id": "c7d02114",
   "metadata": {},
   "outputs": [
    {
     "name": "stdout",
     "output_type": "stream",
     "text": [
      "The accuracy on training dataset is: 0.988\n",
      "The accuracy on testing dataset is: 0.951\n"
     ]
    }
   ],
   "source": [
    "tree.fit(X_train,y_train)\n",
    "print(\"The accuracy on training dataset is: {:.3f}\".format(tree.score(X_train,y_train)))\n",
    "print(\"The accuracy on testing dataset is: {:.3f}\".format(tree.score(X_test, y_test)))"
   ]
  },
  {
   "cell_type": "code",
   "execution_count": 89,
   "id": "72a90f9f",
   "metadata": {},
   "outputs": [],
   "source": [
    "# as we can compare \n",
    "# before using max_depth the accuracy on training dataset was 1 now after limiting accuracy falls slightly \n",
    "# but the accuracy of test is high than the previous one()"
   ]
  },
  {
   "cell_type": "code",
   "execution_count": 94,
   "id": "2bdd9ba0",
   "metadata": {},
   "outputs": [],
   "source": [
    "# visualizing the decision tree"
   ]
  },
  {
   "cell_type": "code",
   "execution_count": 111,
   "id": "5b19b14a",
   "metadata": {},
   "outputs": [],
   "source": [
    "from sklearn.tree import export_graphviz\n",
    "export_graphviz(tree, out_file = 'tree.dot', class_names = [\"malignant\",\"benign\"],\n",
    "              feature_names = cancer.feature_names, impurity = False, filled = True)"
   ]
  },
  {
   "cell_type": "code",
   "execution_count": 112,
   "id": "977f71f1",
   "metadata": {},
   "outputs": [
    {
     "data": {
      "image/svg+xml": [
       "<?xml version=\"1.0\" encoding=\"UTF-8\" standalone=\"no\"?>\n",
       "<!DOCTYPE svg PUBLIC \"-//W3C//DTD SVG 1.1//EN\"\n",
       " \"http://www.w3.org/Graphics/SVG/1.1/DTD/svg11.dtd\">\n",
       "<!-- Generated by graphviz version 7.0.0 (20221023.0053)\n",
       " -->\n",
       "<!-- Title: Tree Pages: 1 -->\n",
       "<svg width=\"1023pt\" height=\"477pt\"\n",
       " viewBox=\"0.00 0.00 1023.00 477.00\" xmlns=\"http://www.w3.org/2000/svg\" xmlns:xlink=\"http://www.w3.org/1999/xlink\">\n",
       "<g id=\"graph0\" class=\"graph\" transform=\"scale(1 1) rotate(0) translate(4 473)\">\n",
       "<title>Tree</title>\n",
       "<polygon fill=\"white\" stroke=\"none\" points=\"-4,4 -4,-473 1019,-473 1019,4 -4,4\"/>\n",
       "<!-- 0 -->\n",
       "<g id=\"node1\" class=\"node\">\n",
       "<title>0</title>\n",
       "<polygon fill=\"#afd7f4\" stroke=\"black\" points=\"636,-469 491,-469 491,-401 636,-401 636,-469\"/>\n",
       "<text text-anchor=\"middle\" x=\"563.5\" y=\"-453.8\" font-family=\"Times,serif\" font-size=\"14.00\">worst radius &lt;= 16.795</text>\n",
       "<text text-anchor=\"middle\" x=\"563.5\" y=\"-438.8\" font-family=\"Times,serif\" font-size=\"14.00\">samples = 426</text>\n",
       "<text text-anchor=\"middle\" x=\"563.5\" y=\"-423.8\" font-family=\"Times,serif\" font-size=\"14.00\">value = [159, 267]</text>\n",
       "<text text-anchor=\"middle\" x=\"563.5\" y=\"-408.8\" font-family=\"Times,serif\" font-size=\"14.00\">class = benign</text>\n",
       "</g>\n",
       "<!-- 1 -->\n",
       "<g id=\"node2\" class=\"node\">\n",
       "<title>1</title>\n",
       "<polygon fill=\"#4ca6e8\" stroke=\"black\" points=\"546.5,-365 360.5,-365 360.5,-297 546.5,-297 546.5,-365\"/>\n",
       "<text text-anchor=\"middle\" x=\"453.5\" y=\"-349.8\" font-family=\"Times,serif\" font-size=\"14.00\">worst concave points &lt;= 0.136</text>\n",
       "<text text-anchor=\"middle\" x=\"453.5\" y=\"-334.8\" font-family=\"Times,serif\" font-size=\"14.00\">samples = 284</text>\n",
       "<text text-anchor=\"middle\" x=\"453.5\" y=\"-319.8\" font-family=\"Times,serif\" font-size=\"14.00\">value = [25, 259]</text>\n",
       "<text text-anchor=\"middle\" x=\"453.5\" y=\"-304.8\" font-family=\"Times,serif\" font-size=\"14.00\">class = benign</text>\n",
       "</g>\n",
       "<!-- 0&#45;&gt;1 -->\n",
       "<g id=\"edge1\" class=\"edge\">\n",
       "<title>0&#45;&gt;1</title>\n",
       "<path fill=\"none\" stroke=\"black\" d=\"M527.48,-400.6C517.99,-391.8 507.63,-382.19 497.75,-373.03\"/>\n",
       "<polygon fill=\"black\" stroke=\"black\" points=\"500.42,-370.74 490.71,-366.5 495.66,-375.87 500.42,-370.74\"/>\n",
       "<text text-anchor=\"middle\" x=\"490.54\" y=\"-386.76\" font-family=\"Times,serif\" font-size=\"14.00\">True</text>\n",
       "</g>\n",
       "<!-- 14 -->\n",
       "<g id=\"node15\" class=\"node\">\n",
       "<title>14</title>\n",
       "<polygon fill=\"#e78945\" stroke=\"black\" points=\"714,-365 575,-365 575,-297 714,-297 714,-365\"/>\n",
       "<text text-anchor=\"middle\" x=\"644.5\" y=\"-349.8\" font-family=\"Times,serif\" font-size=\"14.00\">texture error &lt;= 0.473</text>\n",
       "<text text-anchor=\"middle\" x=\"644.5\" y=\"-334.8\" font-family=\"Times,serif\" font-size=\"14.00\">samples = 142</text>\n",
       "<text text-anchor=\"middle\" x=\"644.5\" y=\"-319.8\" font-family=\"Times,serif\" font-size=\"14.00\">value = [134, 8]</text>\n",
       "<text text-anchor=\"middle\" x=\"644.5\" y=\"-304.8\" font-family=\"Times,serif\" font-size=\"14.00\">class = malignant</text>\n",
       "</g>\n",
       "<!-- 0&#45;&gt;14 -->\n",
       "<g id=\"edge14\" class=\"edge\">\n",
       "<title>0&#45;&gt;14</title>\n",
       "<path fill=\"none\" stroke=\"black\" d=\"M590.02,-400.6C596.67,-392.24 603.88,-383.15 610.82,-374.41\"/>\n",
       "<polygon fill=\"black\" stroke=\"black\" points=\"613.5,-376.67 616.98,-366.66 608.02,-372.31 613.5,-376.67\"/>\n",
       "<text text-anchor=\"middle\" x=\"620.77\" y=\"-386.61\" font-family=\"Times,serif\" font-size=\"14.00\">False</text>\n",
       "</g>\n",
       "<!-- 2 -->\n",
       "<g id=\"node3\" class=\"node\">\n",
       "<title>2</title>\n",
       "<polygon fill=\"#3c9fe5\" stroke=\"black\" points=\"351.5,-261 217.5,-261 217.5,-193 351.5,-193 351.5,-261\"/>\n",
       "<text text-anchor=\"middle\" x=\"284.5\" y=\"-245.8\" font-family=\"Times,serif\" font-size=\"14.00\">radius error &lt;= 1.048</text>\n",
       "<text text-anchor=\"middle\" x=\"284.5\" y=\"-230.8\" font-family=\"Times,serif\" font-size=\"14.00\">samples = 252</text>\n",
       "<text text-anchor=\"middle\" x=\"284.5\" y=\"-215.8\" font-family=\"Times,serif\" font-size=\"14.00\">value = [4, 248]</text>\n",
       "<text text-anchor=\"middle\" x=\"284.5\" y=\"-200.8\" font-family=\"Times,serif\" font-size=\"14.00\">class = benign</text>\n",
       "</g>\n",
       "<!-- 1&#45;&gt;2 -->\n",
       "<g id=\"edge2\" class=\"edge\">\n",
       "<title>1&#45;&gt;2</title>\n",
       "<path fill=\"none\" stroke=\"black\" d=\"M398.16,-296.6C382.7,-287.27 365.75,-277.04 349.76,-267.39\"/>\n",
       "<polygon fill=\"black\" stroke=\"black\" points=\"351.63,-264.43 341.26,-262.26 348.01,-270.42 351.63,-264.43\"/>\n",
       "</g>\n",
       "<!-- 7 -->\n",
       "<g id=\"node8\" class=\"node\">\n",
       "<title>7</title>\n",
       "<polygon fill=\"#f3c3a1\" stroke=\"black\" points=\"525,-261 382,-261 382,-193 525,-193 525,-261\"/>\n",
       "<text text-anchor=\"middle\" x=\"453.5\" y=\"-245.8\" font-family=\"Times,serif\" font-size=\"14.00\">worst texture &lt;= 25.62</text>\n",
       "<text text-anchor=\"middle\" x=\"453.5\" y=\"-230.8\" font-family=\"Times,serif\" font-size=\"14.00\">samples = 32</text>\n",
       "<text text-anchor=\"middle\" x=\"453.5\" y=\"-215.8\" font-family=\"Times,serif\" font-size=\"14.00\">value = [21, 11]</text>\n",
       "<text text-anchor=\"middle\" x=\"453.5\" y=\"-200.8\" font-family=\"Times,serif\" font-size=\"14.00\">class = malignant</text>\n",
       "</g>\n",
       "<!-- 1&#45;&gt;7 -->\n",
       "<g id=\"edge7\" class=\"edge\">\n",
       "<title>1&#45;&gt;7</title>\n",
       "<path fill=\"none\" stroke=\"black\" d=\"M453.5,-296.6C453.5,-289.03 453.5,-280.87 453.5,-272.9\"/>\n",
       "<polygon fill=\"black\" stroke=\"black\" points=\"457,-272.99 453.5,-262.99 450,-272.99 457,-272.99\"/>\n",
       "</g>\n",
       "<!-- 3 -->\n",
       "<g id=\"node4\" class=\"node\">\n",
       "<title>3</title>\n",
       "<polygon fill=\"#3b9ee5\" stroke=\"black\" points=\"210,-157 45,-157 45,-89 210,-89 210,-157\"/>\n",
       "<text text-anchor=\"middle\" x=\"127.5\" y=\"-141.8\" font-family=\"Times,serif\" font-size=\"14.00\">smoothness error &lt;= 0.003</text>\n",
       "<text text-anchor=\"middle\" x=\"127.5\" y=\"-126.8\" font-family=\"Times,serif\" font-size=\"14.00\">samples = 251</text>\n",
       "<text text-anchor=\"middle\" x=\"127.5\" y=\"-111.8\" font-family=\"Times,serif\" font-size=\"14.00\">value = [3, 248]</text>\n",
       "<text text-anchor=\"middle\" x=\"127.5\" y=\"-96.8\" font-family=\"Times,serif\" font-size=\"14.00\">class = benign</text>\n",
       "</g>\n",
       "<!-- 2&#45;&gt;3 -->\n",
       "<g id=\"edge3\" class=\"edge\">\n",
       "<title>2&#45;&gt;3</title>\n",
       "<path fill=\"none\" stroke=\"black\" d=\"M233.09,-192.6C218.86,-183.36 203.27,-173.23 188.55,-163.66\"/>\n",
       "<polygon fill=\"black\" stroke=\"black\" points=\"190.58,-160.81 180.29,-158.3 186.77,-166.68 190.58,-160.81\"/>\n",
       "</g>\n",
       "<!-- 6 -->\n",
       "<g id=\"node7\" class=\"node\">\n",
       "<title>6</title>\n",
       "<polygon fill=\"#e58139\" stroke=\"black\" points=\"341,-149.5 228,-149.5 228,-96.5 341,-96.5 341,-149.5\"/>\n",
       "<text text-anchor=\"middle\" x=\"284.5\" y=\"-134.3\" font-family=\"Times,serif\" font-size=\"14.00\">samples = 1</text>\n",
       "<text text-anchor=\"middle\" x=\"284.5\" y=\"-119.3\" font-family=\"Times,serif\" font-size=\"14.00\">value = [1, 0]</text>\n",
       "<text text-anchor=\"middle\" x=\"284.5\" y=\"-104.3\" font-family=\"Times,serif\" font-size=\"14.00\">class = malignant</text>\n",
       "</g>\n",
       "<!-- 2&#45;&gt;6 -->\n",
       "<g id=\"edge6\" class=\"edge\">\n",
       "<title>2&#45;&gt;6</title>\n",
       "<path fill=\"none\" stroke=\"black\" d=\"M284.5,-192.6C284.5,-182.47 284.5,-171.28 284.5,-160.93\"/>\n",
       "<polygon fill=\"black\" stroke=\"black\" points=\"288,-161.22 284.5,-151.22 281,-161.22 288,-161.22\"/>\n",
       "</g>\n",
       "<!-- 4 -->\n",
       "<g id=\"node5\" class=\"node\">\n",
       "<title>4</title>\n",
       "<polygon fill=\"#7bbeee\" stroke=\"black\" points=\"95,-53 0,-53 0,0 95,0 95,-53\"/>\n",
       "<text text-anchor=\"middle\" x=\"47.5\" y=\"-37.8\" font-family=\"Times,serif\" font-size=\"14.00\">samples = 4</text>\n",
       "<text text-anchor=\"middle\" x=\"47.5\" y=\"-22.8\" font-family=\"Times,serif\" font-size=\"14.00\">value = [1, 3]</text>\n",
       "<text text-anchor=\"middle\" x=\"47.5\" y=\"-7.8\" font-family=\"Times,serif\" font-size=\"14.00\">class = benign</text>\n",
       "</g>\n",
       "<!-- 3&#45;&gt;4 -->\n",
       "<g id=\"edge4\" class=\"edge\">\n",
       "<title>3&#45;&gt;4</title>\n",
       "<path fill=\"none\" stroke=\"black\" d=\"M99.29,-88.68C92.02,-80.09 84.17,-70.81 76.83,-62.15\"/>\n",
       "<polygon fill=\"black\" stroke=\"black\" points=\"79.53,-59.92 70.4,-54.55 74.19,-64.44 79.53,-59.92\"/>\n",
       "</g>\n",
       "<!-- 5 -->\n",
       "<g id=\"node6\" class=\"node\">\n",
       "<title>5</title>\n",
       "<polygon fill=\"#3b9ee5\" stroke=\"black\" points=\"218,-53 113,-53 113,0 218,0 218,-53\"/>\n",
       "<text text-anchor=\"middle\" x=\"165.5\" y=\"-37.8\" font-family=\"Times,serif\" font-size=\"14.00\">samples = 247</text>\n",
       "<text text-anchor=\"middle\" x=\"165.5\" y=\"-22.8\" font-family=\"Times,serif\" font-size=\"14.00\">value = [2, 245]</text>\n",
       "<text text-anchor=\"middle\" x=\"165.5\" y=\"-7.8\" font-family=\"Times,serif\" font-size=\"14.00\">class = benign</text>\n",
       "</g>\n",
       "<!-- 3&#45;&gt;5 -->\n",
       "<g id=\"edge5\" class=\"edge\">\n",
       "<title>3&#45;&gt;5</title>\n",
       "<path fill=\"none\" stroke=\"black\" d=\"M140.9,-88.68C144.1,-80.72 147.54,-72.17 150.79,-64.07\"/>\n",
       "<polygon fill=\"black\" stroke=\"black\" points=\"154.04,-65.38 154.52,-54.8 147.54,-62.77 154.04,-65.38\"/>\n",
       "</g>\n",
       "<!-- 8 -->\n",
       "<g id=\"node9\" class=\"node\">\n",
       "<title>8</title>\n",
       "<polygon fill=\"#7bbeee\" stroke=\"black\" points=\"528,-157 359,-157 359,-89 528,-89 528,-157\"/>\n",
       "<text text-anchor=\"middle\" x=\"443.5\" y=\"-141.8\" font-family=\"Times,serif\" font-size=\"14.00\">worst smoothness &lt;= 0.179</text>\n",
       "<text text-anchor=\"middle\" x=\"443.5\" y=\"-126.8\" font-family=\"Times,serif\" font-size=\"14.00\">samples = 12</text>\n",
       "<text text-anchor=\"middle\" x=\"443.5\" y=\"-111.8\" font-family=\"Times,serif\" font-size=\"14.00\">value = [3, 9]</text>\n",
       "<text text-anchor=\"middle\" x=\"443.5\" y=\"-96.8\" font-family=\"Times,serif\" font-size=\"14.00\">class = benign</text>\n",
       "</g>\n",
       "<!-- 7&#45;&gt;8 -->\n",
       "<g id=\"edge8\" class=\"edge\">\n",
       "<title>7&#45;&gt;8</title>\n",
       "<path fill=\"none\" stroke=\"black\" d=\"M450.23,-192.6C449.48,-185.03 448.68,-176.87 447.9,-168.9\"/>\n",
       "<polygon fill=\"black\" stroke=\"black\" points=\"451.39,-168.59 446.93,-158.98 444.42,-169.27 451.39,-168.59\"/>\n",
       "</g>\n",
       "<!-- 11 -->\n",
       "<g id=\"node12\" class=\"node\">\n",
       "<title>11</title>\n",
       "<polygon fill=\"#e88f4f\" stroke=\"black\" points=\"707,-157 546,-157 546,-89 707,-89 707,-157\"/>\n",
       "<text text-anchor=\"middle\" x=\"626.5\" y=\"-141.8\" font-family=\"Times,serif\" font-size=\"14.00\">worst symmetry &lt;= 0.268</text>\n",
       "<text text-anchor=\"middle\" x=\"626.5\" y=\"-126.8\" font-family=\"Times,serif\" font-size=\"14.00\">samples = 20</text>\n",
       "<text text-anchor=\"middle\" x=\"626.5\" y=\"-111.8\" font-family=\"Times,serif\" font-size=\"14.00\">value = [18, 2]</text>\n",
       "<text text-anchor=\"middle\" x=\"626.5\" y=\"-96.8\" font-family=\"Times,serif\" font-size=\"14.00\">class = malignant</text>\n",
       "</g>\n",
       "<!-- 7&#45;&gt;11 -->\n",
       "<g id=\"edge11\" class=\"edge\">\n",
       "<title>7&#45;&gt;11</title>\n",
       "<path fill=\"none\" stroke=\"black\" d=\"M510.15,-192.6C526.13,-183.18 543.66,-172.84 560.15,-163.12\"/>\n",
       "<polygon fill=\"black\" stroke=\"black\" points=\"561.59,-166.34 568.42,-158.24 558.03,-160.31 561.59,-166.34\"/>\n",
       "</g>\n",
       "<!-- 9 -->\n",
       "<g id=\"node10\" class=\"node\">\n",
       "<title>9</title>\n",
       "<polygon fill=\"#4fa8e8\" stroke=\"black\" points=\"369,-53 274,-53 274,0 369,0 369,-53\"/>\n",
       "<text text-anchor=\"middle\" x=\"321.5\" y=\"-37.8\" font-family=\"Times,serif\" font-size=\"14.00\">samples = 10</text>\n",
       "<text text-anchor=\"middle\" x=\"321.5\" y=\"-22.8\" font-family=\"Times,serif\" font-size=\"14.00\">value = [1, 9]</text>\n",
       "<text text-anchor=\"middle\" x=\"321.5\" y=\"-7.8\" font-family=\"Times,serif\" font-size=\"14.00\">class = benign</text>\n",
       "</g>\n",
       "<!-- 8&#45;&gt;9 -->\n",
       "<g id=\"edge9\" class=\"edge\">\n",
       "<title>8&#45;&gt;9</title>\n",
       "<path fill=\"none\" stroke=\"black\" d=\"M400.49,-88.68C388.57,-79.45 375.65,-69.44 363.77,-60.24\"/>\n",
       "<polygon fill=\"black\" stroke=\"black\" points=\"366.17,-57.68 356.13,-54.32 361.89,-63.21 366.17,-57.68\"/>\n",
       "</g>\n",
       "<!-- 10 -->\n",
       "<g id=\"node11\" class=\"node\">\n",
       "<title>10</title>\n",
       "<polygon fill=\"#e58139\" stroke=\"black\" points=\"500,-53 387,-53 387,0 500,0 500,-53\"/>\n",
       "<text text-anchor=\"middle\" x=\"443.5\" y=\"-37.8\" font-family=\"Times,serif\" font-size=\"14.00\">samples = 2</text>\n",
       "<text text-anchor=\"middle\" x=\"443.5\" y=\"-22.8\" font-family=\"Times,serif\" font-size=\"14.00\">value = [2, 0]</text>\n",
       "<text text-anchor=\"middle\" x=\"443.5\" y=\"-7.8\" font-family=\"Times,serif\" font-size=\"14.00\">class = malignant</text>\n",
       "</g>\n",
       "<!-- 8&#45;&gt;10 -->\n",
       "<g id=\"edge10\" class=\"edge\">\n",
       "<title>8&#45;&gt;10</title>\n",
       "<path fill=\"none\" stroke=\"black\" d=\"M443.5,-88.68C443.5,-80.99 443.5,-72.76 443.5,-64.9\"/>\n",
       "<polygon fill=\"black\" stroke=\"black\" points=\"447,-64.91 443.5,-54.91 440,-64.91 447,-64.91\"/>\n",
       "</g>\n",
       "<!-- 12 -->\n",
       "<g id=\"node13\" class=\"node\">\n",
       "<title>12</title>\n",
       "<polygon fill=\"#9ccef2\" stroke=\"black\" points=\"613,-53 518,-53 518,0 613,0 613,-53\"/>\n",
       "<text text-anchor=\"middle\" x=\"565.5\" y=\"-37.8\" font-family=\"Times,serif\" font-size=\"14.00\">samples = 3</text>\n",
       "<text text-anchor=\"middle\" x=\"565.5\" y=\"-22.8\" font-family=\"Times,serif\" font-size=\"14.00\">value = [1, 2]</text>\n",
       "<text text-anchor=\"middle\" x=\"565.5\" y=\"-7.8\" font-family=\"Times,serif\" font-size=\"14.00\">class = benign</text>\n",
       "</g>\n",
       "<!-- 11&#45;&gt;12 -->\n",
       "<g id=\"edge12\" class=\"edge\">\n",
       "<title>11&#45;&gt;12</title>\n",
       "<path fill=\"none\" stroke=\"black\" d=\"M604.99,-88.68C599.62,-80.36 593.84,-71.4 588.4,-62.97\"/>\n",
       "<polygon fill=\"black\" stroke=\"black\" points=\"591.4,-61.17 583.04,-54.67 585.52,-64.97 591.4,-61.17\"/>\n",
       "</g>\n",
       "<!-- 13 -->\n",
       "<g id=\"node14\" class=\"node\">\n",
       "<title>13</title>\n",
       "<polygon fill=\"#e58139\" stroke=\"black\" points=\"744,-53 631,-53 631,0 744,0 744,-53\"/>\n",
       "<text text-anchor=\"middle\" x=\"687.5\" y=\"-37.8\" font-family=\"Times,serif\" font-size=\"14.00\">samples = 17</text>\n",
       "<text text-anchor=\"middle\" x=\"687.5\" y=\"-22.8\" font-family=\"Times,serif\" font-size=\"14.00\">value = [17, 0]</text>\n",
       "<text text-anchor=\"middle\" x=\"687.5\" y=\"-7.8\" font-family=\"Times,serif\" font-size=\"14.00\">class = malignant</text>\n",
       "</g>\n",
       "<!-- 11&#45;&gt;13 -->\n",
       "<g id=\"edge13\" class=\"edge\">\n",
       "<title>11&#45;&gt;13</title>\n",
       "<path fill=\"none\" stroke=\"black\" d=\"M648.01,-88.68C653.38,-80.36 659.16,-71.4 664.6,-62.97\"/>\n",
       "<polygon fill=\"black\" stroke=\"black\" points=\"667.48,-64.97 669.96,-54.67 661.6,-61.17 667.48,-64.97\"/>\n",
       "</g>\n",
       "<!-- 15 -->\n",
       "<g id=\"node16\" class=\"node\">\n",
       "<title>15</title>\n",
       "<polygon fill=\"#399de5\" stroke=\"black\" points=\"692,-253.5 597,-253.5 597,-200.5 692,-200.5 692,-253.5\"/>\n",
       "<text text-anchor=\"middle\" x=\"644.5\" y=\"-238.3\" font-family=\"Times,serif\" font-size=\"14.00\">samples = 5</text>\n",
       "<text text-anchor=\"middle\" x=\"644.5\" y=\"-223.3\" font-family=\"Times,serif\" font-size=\"14.00\">value = [0, 5]</text>\n",
       "<text text-anchor=\"middle\" x=\"644.5\" y=\"-208.3\" font-family=\"Times,serif\" font-size=\"14.00\">class = benign</text>\n",
       "</g>\n",
       "<!-- 14&#45;&gt;15 -->\n",
       "<g id=\"edge15\" class=\"edge\">\n",
       "<title>14&#45;&gt;15</title>\n",
       "<path fill=\"none\" stroke=\"black\" d=\"M644.5,-296.6C644.5,-286.47 644.5,-275.28 644.5,-264.93\"/>\n",
       "<polygon fill=\"black\" stroke=\"black\" points=\"648,-265.22 644.5,-255.22 641,-265.22 648,-265.22\"/>\n",
       "</g>\n",
       "<!-- 16 -->\n",
       "<g id=\"node17\" class=\"node\">\n",
       "<title>16</title>\n",
       "<polygon fill=\"#e6843d\" stroke=\"black\" points=\"888.5,-261 730.5,-261 730.5,-193 888.5,-193 888.5,-261\"/>\n",
       "<text text-anchor=\"middle\" x=\"809.5\" y=\"-245.8\" font-family=\"Times,serif\" font-size=\"14.00\">worst concavity &lt;= 0.191</text>\n",
       "<text text-anchor=\"middle\" x=\"809.5\" y=\"-230.8\" font-family=\"Times,serif\" font-size=\"14.00\">samples = 137</text>\n",
       "<text text-anchor=\"middle\" x=\"809.5\" y=\"-215.8\" font-family=\"Times,serif\" font-size=\"14.00\">value = [134, 3]</text>\n",
       "<text text-anchor=\"middle\" x=\"809.5\" y=\"-200.8\" font-family=\"Times,serif\" font-size=\"14.00\">class = malignant</text>\n",
       "</g>\n",
       "<!-- 14&#45;&gt;16 -->\n",
       "<g id=\"edge16\" class=\"edge\">\n",
       "<title>14&#45;&gt;16</title>\n",
       "<path fill=\"none\" stroke=\"black\" d=\"M698.53,-296.6C713.63,-287.27 730.18,-277.04 745.78,-267.39\"/>\n",
       "<polygon fill=\"black\" stroke=\"black\" points=\"747.4,-270.5 754.06,-262.27 743.72,-264.55 747.4,-270.5\"/>\n",
       "</g>\n",
       "<!-- 17 -->\n",
       "<g id=\"node18\" class=\"node\">\n",
       "<title>17</title>\n",
       "<polygon fill=\"#bddef6\" stroke=\"black\" points=\"884,-157 735,-157 735,-89 884,-89 884,-157\"/>\n",
       "<text text-anchor=\"middle\" x=\"809.5\" y=\"-141.8\" font-family=\"Times,serif\" font-size=\"14.00\">worst texture &lt;= 30.975</text>\n",
       "<text text-anchor=\"middle\" x=\"809.5\" y=\"-126.8\" font-family=\"Times,serif\" font-size=\"14.00\">samples = 5</text>\n",
       "<text text-anchor=\"middle\" x=\"809.5\" y=\"-111.8\" font-family=\"Times,serif\" font-size=\"14.00\">value = [2, 3]</text>\n",
       "<text text-anchor=\"middle\" x=\"809.5\" y=\"-96.8\" font-family=\"Times,serif\" font-size=\"14.00\">class = benign</text>\n",
       "</g>\n",
       "<!-- 16&#45;&gt;17 -->\n",
       "<g id=\"edge17\" class=\"edge\">\n",
       "<title>16&#45;&gt;17</title>\n",
       "<path fill=\"none\" stroke=\"black\" d=\"M809.5,-192.6C809.5,-185.03 809.5,-176.87 809.5,-168.9\"/>\n",
       "<polygon fill=\"black\" stroke=\"black\" points=\"813,-168.99 809.5,-158.99 806,-168.99 813,-168.99\"/>\n",
       "</g>\n",
       "<!-- 20 -->\n",
       "<g id=\"node21\" class=\"node\">\n",
       "<title>20</title>\n",
       "<polygon fill=\"#e58139\" stroke=\"black\" points=\"1015,-149.5 902,-149.5 902,-96.5 1015,-96.5 1015,-149.5\"/>\n",
       "<text text-anchor=\"middle\" x=\"958.5\" y=\"-134.3\" font-family=\"Times,serif\" font-size=\"14.00\">samples = 132</text>\n",
       "<text text-anchor=\"middle\" x=\"958.5\" y=\"-119.3\" font-family=\"Times,serif\" font-size=\"14.00\">value = [132, 0]</text>\n",
       "<text text-anchor=\"middle\" x=\"958.5\" y=\"-104.3\" font-family=\"Times,serif\" font-size=\"14.00\">class = malignant</text>\n",
       "</g>\n",
       "<!-- 16&#45;&gt;20 -->\n",
       "<g id=\"edge20\" class=\"edge\">\n",
       "<title>16&#45;&gt;20</title>\n",
       "<path fill=\"none\" stroke=\"black\" d=\"M858.29,-192.6C875.47,-180.84 894.74,-167.65 911.76,-156\"/>\n",
       "<polygon fill=\"black\" stroke=\"black\" points=\"913.43,-159.1 919.7,-150.56 909.47,-153.32 913.43,-159.1\"/>\n",
       "</g>\n",
       "<!-- 18 -->\n",
       "<g id=\"node19\" class=\"node\">\n",
       "<title>18</title>\n",
       "<polygon fill=\"#399de5\" stroke=\"black\" points=\"857,-53 762,-53 762,0 857,0 857,-53\"/>\n",
       "<text text-anchor=\"middle\" x=\"809.5\" y=\"-37.8\" font-family=\"Times,serif\" font-size=\"14.00\">samples = 3</text>\n",
       "<text text-anchor=\"middle\" x=\"809.5\" y=\"-22.8\" font-family=\"Times,serif\" font-size=\"14.00\">value = [0, 3]</text>\n",
       "<text text-anchor=\"middle\" x=\"809.5\" y=\"-7.8\" font-family=\"Times,serif\" font-size=\"14.00\">class = benign</text>\n",
       "</g>\n",
       "<!-- 17&#45;&gt;18 -->\n",
       "<g id=\"edge18\" class=\"edge\">\n",
       "<title>17&#45;&gt;18</title>\n",
       "<path fill=\"none\" stroke=\"black\" d=\"M809.5,-88.68C809.5,-80.99 809.5,-72.76 809.5,-64.9\"/>\n",
       "<polygon fill=\"black\" stroke=\"black\" points=\"813,-64.91 809.5,-54.91 806,-64.91 813,-64.91\"/>\n",
       "</g>\n",
       "<!-- 19 -->\n",
       "<g id=\"node20\" class=\"node\">\n",
       "<title>19</title>\n",
       "<polygon fill=\"#e58139\" stroke=\"black\" points=\"988,-53 875,-53 875,0 988,0 988,-53\"/>\n",
       "<text text-anchor=\"middle\" x=\"931.5\" y=\"-37.8\" font-family=\"Times,serif\" font-size=\"14.00\">samples = 2</text>\n",
       "<text text-anchor=\"middle\" x=\"931.5\" y=\"-22.8\" font-family=\"Times,serif\" font-size=\"14.00\">value = [2, 0]</text>\n",
       "<text text-anchor=\"middle\" x=\"931.5\" y=\"-7.8\" font-family=\"Times,serif\" font-size=\"14.00\">class = malignant</text>\n",
       "</g>\n",
       "<!-- 17&#45;&gt;19 -->\n",
       "<g id=\"edge19\" class=\"edge\">\n",
       "<title>17&#45;&gt;19</title>\n",
       "<path fill=\"none\" stroke=\"black\" d=\"M852.51,-88.68C864.43,-79.45 877.35,-69.44 889.23,-60.24\"/>\n",
       "<polygon fill=\"black\" stroke=\"black\" points=\"891.11,-63.21 896.87,-54.32 886.83,-57.68 891.11,-63.21\"/>\n",
       "</g>\n",
       "</g>\n",
       "</svg>\n"
      ],
      "text/plain": [
       "<graphviz.sources.Source at 0x7f8022143bb0>"
      ]
     },
     "execution_count": 112,
     "metadata": {},
     "output_type": "execute_result"
    }
   ],
   "source": [
    "import graphviz\n",
    "with open('tree.dot') as f:\n",
    "    dot_graph = f.read()\n",
    "    \n",
    "graphviz.Source(dot_graph)"
   ]
  },
  {
   "cell_type": "code",
   "execution_count": 113,
   "id": "4e9e20bd",
   "metadata": {},
   "outputs": [],
   "source": [
    "# trees can be overwhelming so see it in different way is featrure importance\n"
   ]
  },
  {
   "cell_type": "code",
   "execution_count": 114,
   "id": "e9c86e52",
   "metadata": {},
   "outputs": [
    {
     "data": {
      "text/plain": [
       "array([0.        , 0.        , 0.        , 0.        , 0.        ,\n",
       "       0.        , 0.        , 0.        , 0.        , 0.        ,\n",
       "       0.01019737, 0.04839825, 0.        , 0.        , 0.0024156 ,\n",
       "       0.        , 0.        , 0.        , 0.        , 0.        ,\n",
       "       0.72682851, 0.0458159 , 0.        , 0.        , 0.0141577 ,\n",
       "       0.        , 0.018188  , 0.1221132 , 0.01188548, 0.        ])"
      ]
     },
     "execution_count": 114,
     "metadata": {},
     "output_type": "execute_result"
    }
   ],
   "source": [
    "tree.feature_importances_"
   ]
  },
  {
   "cell_type": "code",
   "execution_count": 116,
   "id": "7cfbacd5",
   "metadata": {},
   "outputs": [
    {
     "data": {
      "image/png": "[encoded data removed]",
      "text/plain": [
       "<Figure size 432x288 with 1 Axes>"
      ]
     },
     "metadata": {
      "needs_background": "light"
     },
     "output_type": "display_data"
    }
   ],
   "source": [
    "import matplotlib.pyplot as plt\n",
    "def plot_feature_importances_cancer_model(model):\n",
    "    n_features = cancer.data.shape[1]\n",
    "    plt.barh(range(n_features), model.feature_importances_, align = 'center')\n",
    "    plt.yticks(np.arange(n_features), cancer.feature_names)\n",
    "    plt.xlabel('feature importance')\n",
    "    plt.ylabel('features')\n",
    "\n",
    "plot_feature_importances_cancer_model(tree)"
   ]
  },
  {
   "cell_type": "code",
   "execution_count": 117,
   "id": "6bf85d7d",
   "metadata": {},
   "outputs": [
    {
     "data": {
      "text/plain": [
       "array(['mean radius', 'mean texture', 'mean perimeter', 'mean area',\n",
       "       'mean smoothness', 'mean compactness', 'mean concavity',\n",
       "       'mean concave points', 'mean symmetry', 'mean fractal dimension',\n",
       "       'radius error', 'texture error', 'perimeter error', 'area error',\n",
       "       'smoothness error', 'compactness error', 'concavity error',\n",
       "       'concave points error', 'symmetry error',\n",
       "       'fractal dimension error', 'worst radius', 'worst texture',\n",
       "       'worst perimeter', 'worst area', 'worst smoothness',\n",
       "       'worst compactness', 'worst concavity', 'worst concave points',\n",
       "       'worst symmetry', 'worst fractal dimension'], dtype='<U23')"
      ]
     },
     "execution_count": 117,
     "metadata": {},
     "output_type": "execute_result"
    }
   ],
   "source": [
    "cancer.feature_names"
   ]
  },
  {
   "cell_type": "code",
   "execution_count": 119,
   "id": "08c83a70",
   "metadata": {},
   "outputs": [],
   "source": [
    "# from the graph we can say that the wrost feature is the most important feature "
   ]
  },
  {
   "cell_type": "code",
   "execution_count": 120,
   "id": "7ab1a9ba",
   "metadata": {},
   "outputs": [],
   "source": [
    "# pros of decision tree\n",
    "#1) Easy to intrepret \n",
    "#2) No Scaling and Normalization need since each feature is process seperately\n",
    "\n",
    "# cons\n",
    "# even after pruning it can overfit resulting poor generalization "
   ]
  },
  {
   "cell_type": "code",
   "execution_count": 121,
   "id": "5972c5a4",
   "metadata": {},
   "outputs": [],
   "source": [
    "# Ensembles\n",
    "# this means combinng ML Models to make a powerful ML Models "
   ]
  },
  {
   "cell_type": "code",
   "execution_count": 122,
   "id": "32a854e6",
   "metadata": {},
   "outputs": [],
   "source": [
    "# two popular ensemble model are random forest and gradient boosted decision tree"
   ]
  },
  {
   "cell_type": "code",
   "execution_count": null,
   "id": "c465819c",
   "metadata": {},
   "outputs": [],
   "source": []
  }
 ],
 "metadata": {
  "kernelspec": {
   "display_name": "Python 3 (ipykernel)",
   "language": "python",
   "name": "python3"
  },
  "language_info": {
   "codemirror_mode": {
    "name": "ipython",
    "version": 3
   },
   "file_extension": ".py",
   "mimetype": "text/x-python",
   "name": "python",
   "nbconvert_exporter": "python",
   "pygments_lexer": "ipython3",
   "version": "3.9.7"
  }
 },
 "nbformat": 4,
 "nbformat_minor": 5
}
