{
 "cells": [
  {
   "cell_type": "code",
   "execution_count": 7,
   "id": "a1345110",
   "metadata": {},
   "outputs": [
    {
     "name": "stdout",
     "output_type": "stream",
     "text": [
      "Test Score: 0.972027972027972\n"
     ]
    }
   ],
   "source": [
    "# chaining here is improving the performance of kernel SVM on the cancer dataset by Normalizing on splitted dataset\n",
    "# below is the code for splitting the data, computing the minimum and maximum, scaling the data, and training the SVM\n",
    "\n",
    "from sklearn.svm import SVC\n",
    "from sklearn.datasets import load_breast_cancer\n",
    "from sklearn.model_selection import train_test_split\n",
    "from sklearn.preprocessing import MinMaxScaler\n",
    "\n",
    "# load the dataset \n",
    "cancer = load_breast_cancer()\n",
    "X_train, X_test, y_train, y_test = train_test_split(cancer.data, cancer.target, random_state = 0)\n",
    "\n",
    "# compute minimum and maximum on training dataset - minmaxscaling(normalization)\n",
    "scaler = MinMaxScaler().fit(X_train)\n",
    "# rescale the training dataset\n",
    "X_train_rescale = scaler.transform(X_train)\n",
    "\n",
    "svm = SVC()\n",
    "# learn an SVM on scaled training dataset\n",
    "\n",
    "svm.fit(X_train_rescale, y_train)\n",
    "X_test_scaled = scaler.transform(X_test)\n",
    "\n",
    "print(\"Test Score: {}\".format(svm.score(X_test_scaled, y_test)))"
   ]
  },
  {
   "cell_type": "code",
   "execution_count": 11,
   "id": "26857e4d",
   "metadata": {},
   "outputs": [
    {
     "name": "stdout",
     "output_type": "stream",
     "text": [
      "Best cross validation aacuracy: 0.9812311901504789\n",
      "Best parameters: {'C': 1, 'gamma': 1}\n",
      "Best set score: 0.972027972027972\n"
     ]
    }
   ],
   "source": [
    "# parameter selection with preprocessing\n",
    "# we want to use better parameter for SVC using GridSearchCV\n",
    "# naive approach\n",
    "from sklearn.model_selection import GridSearchCV\n",
    "\n",
    "param_grid = {\n",
    "    'C' : [0.001,0.01,0.1,1,10,100],\n",
    "    'gamma': [0.001,0.01,0.1,1,10,100]\n",
    "}\n",
    "\n",
    "\n",
    "grid = GridSearchCV(SVC(), param_grid = param_grid, cv = 5)\n",
    "grid.fit(X_train_rescale, y_train)\n",
    "print(\"Best cross validation aacuracy: {}\".format(grid.best_score_))\n",
    "print(\"Best parameters: {}\".format(grid.best_params_))\n",
    "\n",
    "# accuracy\n",
    "print(\"Best set score: {}\".format(grid.score(X_test_scaled, y_test)))\n"
   ]
  },
  {
   "cell_type": "code",
   "execution_count": null,
   "id": "afb56fe8",
   "metadata": {},
   "outputs": [],
   "source": []
  }
 ],
 "metadata": {
  "kernelspec": {
   "display_name": "Python 3 (ipykernel)",
   "language": "python",
   "name": "python3"
  },
  "language_info": {
   "codemirror_mode": {
    "name": "ipython",
    "version": 3
   },
   "file_extension": ".py",
   "mimetype": "text/x-python",
   "name": "python",
   "nbconvert_exporter": "python",
   "pygments_lexer": "ipython3",
   "version": "3.9.7"
  }
 },
 "nbformat": 4,
 "nbformat_minor": 5
}
